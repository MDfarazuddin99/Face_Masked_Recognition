{
  "nbformat": 4,
  "nbformat_minor": 0,
  "metadata": {
    "colab": {
      "name": "VGGFace_Fine_Tuning.ipynb",
      "provenance": [],
      "collapsed_sections": [],
      "mount_file_id": "1cIXwbyKl4YCG8rzKlfNmT_qblrZ5L2qF",
      "authorship_tag": "ABX9TyOsapObqDREyaDJPbmMOAJG",
      "include_colab_link": true
    },
    "kernelspec": {
      "name": "python3",
      "display_name": "Python 3"
    },
    "accelerator": "GPU"
  },
  "cells": [
    {
      "cell_type": "markdown",
      "metadata": {
        "id": "view-in-github",
        "colab_type": "text"
      },
      "source": [
        "<a href=\"https://colab.research.google.com/github/ciphenseadmin/partial-face-recognition/blob/master/VGGFace_Fine_Tuning.ipynb\" target=\"_parent\"><img src=\"https://colab.research.google.com/assets/colab-badge.svg\" alt=\"Open In Colab\"/></a>"
      ]
    },
    {
      "cell_type": "code",
      "metadata": {
        "id": "GTxs8Y5H4QDK",
        "colab_type": "code",
        "outputId": "32488bf5-cd0f-4e44-9a91-7493708f94f9",
        "colab": {
          "base_uri": "https://localhost:8080/",
          "height": 343
        }
      },
      "source": [
        "!pip install git+https://github.com/rcmalli/keras-vggface.git"
      ],
      "execution_count": 0,
      "outputs": [
        {
          "output_type": "stream",
          "text": [
            "Collecting git+https://github.com/rcmalli/keras-vggface.git\n",
            "  Cloning https://github.com/rcmalli/keras-vggface.git to /tmp/pip-req-build-f7c1mwk1\n",
            "  Running command git clone -q https://github.com/rcmalli/keras-vggface.git /tmp/pip-req-build-f7c1mwk1\n",
            "Requirement already satisfied (use --upgrade to upgrade): keras-vggface==0.6 from git+https://github.com/rcmalli/keras-vggface.git in /usr/local/lib/python3.6/dist-packages\n",
            "Requirement already satisfied: numpy>=1.9.1 in /usr/local/lib/python3.6/dist-packages (from keras-vggface==0.6) (1.18.4)\n",
            "Requirement already satisfied: scipy>=0.14 in /usr/local/lib/python3.6/dist-packages (from keras-vggface==0.6) (1.4.1)\n",
            "Requirement already satisfied: h5py in /usr/local/lib/python3.6/dist-packages (from keras-vggface==0.6) (2.10.0)\n",
            "Requirement already satisfied: pillow in /usr/local/lib/python3.6/dist-packages (from keras-vggface==0.6) (7.0.0)\n",
            "Requirement already satisfied: keras in /usr/local/lib/python3.6/dist-packages (from keras-vggface==0.6) (2.3.1)\n",
            "Requirement already satisfied: six>=1.9.0 in /usr/local/lib/python3.6/dist-packages (from keras-vggface==0.6) (1.12.0)\n",
            "Requirement already satisfied: pyyaml in /usr/local/lib/python3.6/dist-packages (from keras-vggface==0.6) (3.13)\n",
            "Requirement already satisfied: keras-preprocessing>=1.0.5 in /usr/local/lib/python3.6/dist-packages (from keras->keras-vggface==0.6) (1.1.2)\n",
            "Requirement already satisfied: keras-applications>=1.0.6 in /usr/local/lib/python3.6/dist-packages (from keras->keras-vggface==0.6) (1.0.8)\n",
            "Building wheels for collected packages: keras-vggface\n",
            "  Building wheel for keras-vggface (setup.py) ... \u001b[?25l\u001b[?25hdone\n",
            "  Created wheel for keras-vggface: filename=keras_vggface-0.6-cp36-none-any.whl size=8311 sha256=ece26fcdbc96c888334316d186cb3a762808911f37185b06504c4f57299e5d27\n",
            "  Stored in directory: /tmp/pip-ephem-wheel-cache-m_btr0oo/wheels/36/07/46/06c25ce8e9cd396dabe151ea1d8a2bc28dafcb11321c1f3a6d\n",
            "Successfully built keras-vggface\n"
          ],
          "name": "stdout"
        }
      ]
    },
    {
      "cell_type": "code",
      "metadata": {
        "id": "N1EnfUl04VvL",
        "colab_type": "code",
        "outputId": "dba81377-6c8c-4053-f760-2183904e9b37",
        "colab": {
          "base_uri": "https://localhost:8080/",
          "height": 187
        }
      },
      "source": [
        "!pip install keras_vggface"
      ],
      "execution_count": 0,
      "outputs": [
        {
          "output_type": "stream",
          "text": [
            "Requirement already satisfied: keras_vggface in /usr/local/lib/python3.6/dist-packages (0.6)\n",
            "Requirement already satisfied: pillow in /usr/local/lib/python3.6/dist-packages (from keras_vggface) (7.0.0)\n",
            "Requirement already satisfied: six>=1.9.0 in /usr/local/lib/python3.6/dist-packages (from keras_vggface) (1.12.0)\n",
            "Requirement already satisfied: numpy>=1.9.1 in /usr/local/lib/python3.6/dist-packages (from keras_vggface) (1.18.4)\n",
            "Requirement already satisfied: keras in /usr/local/lib/python3.6/dist-packages (from keras_vggface) (2.3.1)\n",
            "Requirement already satisfied: scipy>=0.14 in /usr/local/lib/python3.6/dist-packages (from keras_vggface) (1.4.1)\n",
            "Requirement already satisfied: h5py in /usr/local/lib/python3.6/dist-packages (from keras_vggface) (2.10.0)\n",
            "Requirement already satisfied: pyyaml in /usr/local/lib/python3.6/dist-packages (from keras_vggface) (3.13)\n",
            "Requirement already satisfied: keras-applications>=1.0.6 in /usr/local/lib/python3.6/dist-packages (from keras->keras_vggface) (1.0.8)\n",
            "Requirement already satisfied: keras-preprocessing>=1.0.5 in /usr/local/lib/python3.6/dist-packages (from keras->keras_vggface) (1.1.2)\n"
          ],
          "name": "stdout"
        }
      ]
    },
    {
      "cell_type": "code",
      "metadata": {
        "id": "QHm6mN574mU_",
        "colab_type": "code",
        "outputId": "4b1c3bd7-1aea-46b2-a3a2-6bbd6ad0424c",
        "colab": {
          "base_uri": "https://localhost:8080/",
          "height": 384
        }
      },
      "source": [
        "from keras.engine import  Model\n",
        "from keras.layers import Flatten, Dense, Input\n",
        "from keras_vggface.vggface import VGGFace\n",
        "from keras.callbacks import ModelCheckpoint\n",
        "#custom parameters\n",
        "nb_class = 217\n",
        "\n",
        "hidden_dim = 512\n",
        "\n",
        "# vgg_model = VGGFace(include_top=False, input_shape=(128, 128, 3),pooling='avg')\n",
        "vgg_model = VGGFace(include_top=False,pooling='avg')\n",
        "last_layer = vgg_model.get_layer('pool5').output\n",
        "x = Flatten(name='flatten')(last_layer)\n",
        "x = Dense(hidden_dim, activation='relu', name='fc6')(x)\n",
        "x = Dense(hidden_dim, activation='relu', name='fc7')(x)\n",
        "out = Dense(nb_class, activation='softmax', name='fc8')(x)\n",
        "custom_vgg_model = Model(vgg_model.input, out)\n",
        "    "
      ],
      "execution_count": 0,
      "outputs": [
        {
          "output_type": "stream",
          "text": [
            "Using TensorFlow backend.\n"
          ],
          "name": "stderr"
        },
        {
          "output_type": "error",
          "ename": "ModuleNotFoundError",
          "evalue": "ignored",
          "traceback": [
            "\u001b[0;31m---------------------------------------------------------------------------\u001b[0m",
            "\u001b[0;31mModuleNotFoundError\u001b[0m                       Traceback (most recent call last)",
            "\u001b[0;32m<ipython-input-1-e0f33fa380c4>\u001b[0m in \u001b[0;36m<module>\u001b[0;34m()\u001b[0m\n\u001b[1;32m      1\u001b[0m \u001b[0;32mfrom\u001b[0m \u001b[0mkeras\u001b[0m\u001b[0;34m.\u001b[0m\u001b[0mengine\u001b[0m \u001b[0;32mimport\u001b[0m  \u001b[0mModel\u001b[0m\u001b[0;34m\u001b[0m\u001b[0;34m\u001b[0m\u001b[0m\n\u001b[1;32m      2\u001b[0m \u001b[0;32mfrom\u001b[0m \u001b[0mkeras\u001b[0m\u001b[0;34m.\u001b[0m\u001b[0mlayers\u001b[0m \u001b[0;32mimport\u001b[0m \u001b[0mFlatten\u001b[0m\u001b[0;34m,\u001b[0m \u001b[0mDense\u001b[0m\u001b[0;34m,\u001b[0m \u001b[0mInput\u001b[0m\u001b[0;34m\u001b[0m\u001b[0;34m\u001b[0m\u001b[0m\n\u001b[0;32m----> 3\u001b[0;31m \u001b[0;32mfrom\u001b[0m \u001b[0mkeras_vggface\u001b[0m\u001b[0;34m.\u001b[0m\u001b[0mvggface\u001b[0m \u001b[0;32mimport\u001b[0m \u001b[0mVGGFace\u001b[0m\u001b[0;34m\u001b[0m\u001b[0;34m\u001b[0m\u001b[0m\n\u001b[0m\u001b[1;32m      4\u001b[0m \u001b[0;32mfrom\u001b[0m \u001b[0mkeras\u001b[0m\u001b[0;34m.\u001b[0m\u001b[0mcallbacks\u001b[0m \u001b[0;32mimport\u001b[0m \u001b[0mModelCheckpoint\u001b[0m\u001b[0;34m\u001b[0m\u001b[0;34m\u001b[0m\u001b[0m\n\u001b[1;32m      5\u001b[0m \u001b[0;31m#custom parameters\u001b[0m\u001b[0;34m\u001b[0m\u001b[0;34m\u001b[0m\u001b[0;34m\u001b[0m\u001b[0m\n",
            "\u001b[0;31mModuleNotFoundError\u001b[0m: No module named 'keras_vggface'",
            "",
            "\u001b[0;31m---------------------------------------------------------------------------\u001b[0;32m\nNOTE: If your import is failing due to a missing package, you can\nmanually install dependencies using either !pip or !apt.\n\nTo view examples of installing some common dependencies, click the\n\"Open Examples\" button below.\n\u001b[0;31m---------------------------------------------------------------------------\u001b[0m\n"
          ]
        }
      ]
    },
    {
      "cell_type": "code",
      "metadata": {
        "id": "eraKfCrf5MLX",
        "colab_type": "code",
        "colab": {}
      },
      "source": [
        "layer_count = 0\n",
        "for layer in custom_vgg_model.layers:\n",
        "\tlayer_count = layer_count+1\n",
        "\n",
        "for l in range(layer_count-5):\n",
        "\tcustom_vgg_model.layers[l].trainable=False\n",
        "    "
      ],
      "execution_count": 0,
      "outputs": []
    },
    {
      "cell_type": "code",
      "metadata": {
        "id": "hgXmElVvkhl5",
        "colab_type": "code",
        "colab": {}
      },
      "source": [
        "custom_vgg_model.compile(optimizer='adam',loss='categorical_crossentropy',metrics=['accuracy'],)"
      ],
      "execution_count": 0,
      "outputs": []
    },
    {
      "cell_type": "code",
      "metadata": {
        "id": "ZWpjpboB4FXX",
        "colab_type": "code",
        "colab": {}
      },
      "source": [
        "from keras.preprocessing.image import ImageDataGenerator\n",
        "from keras_vggface import utils\n",
        "preprocess_input = utils.preprocess_input\n",
        "datagenerator = ImageDataGenerator(preprocessing_function = preprocess_input)"
      ],
      "execution_count": 0,
      "outputs": []
    },
    {
      "cell_type": "code",
      "metadata": {
        "id": "NrYRnEzv_XmA",
        "colab_type": "code",
        "outputId": "ccdcf0e1-8588-4862-953c-e03ad4470e71",
        "colab": {
          "base_uri": "https://localhost:8080/",
          "height": 1000
        }
      },
      "source": [
        "from keras.callbacks import Callback\n",
        "image_size = 128\n",
        "ACCURACY_THRESHOLD = 0.94\n",
        "class myCallback(Callback): \n",
        "    def on_epoch_end(self, epoch, logs={}): \n",
        "        # if(logs.get('acc') > ACCURACY_THRESHOLD):   \n",
        "        # # print(\"\\nReached %2.2f%% accuracy, so stopping training!!\" %(ACCURACY_THRESHOLD*100))   \n",
        "        self.model.stop_training = True\n",
        "\n",
        "callbacks = myCallback()\n",
        "\n",
        "train_generator = datagenerator.flow_from_directory(\n",
        "        'train',\n",
        "        target_size=(image_size, image_size),\n",
        "        batch_size=32,\n",
        "        class_mode='categorical',)\n",
        "\n",
        "validation_generator = datagenerator.flow_from_directory(\n",
        "        'test',\n",
        "        target_size=(image_size, image_size),\n",
        "        class_mode='categorical')\n",
        "\n",
        "hisory = custom_vgg_model.fit_generator(\n",
        "        train_generator,\n",
        "        validation_data=validation_generator,\n",
        "        validation_steps=1,epochs=50,callbacks=[myCallback ])"
      ],
      "execution_count": 0,
      "outputs": [
        {
          "output_type": "stream",
          "text": [
            "Found 3264 images belonging to 217 classes.\n",
            "Found 1539 images belonging to 217 classes.\n",
            "Epoch 1/50\n",
            "102/102 [==============================] - 11s 108ms/step - loss: 7.1864 - accuracy: 0.2754 - val_loss: 3.2985 - val_accuracy: 0.3750\n",
            "Epoch 2/50\n",
            "102/102 [==============================] - 11s 104ms/step - loss: 2.2883 - accuracy: 0.5156 - val_loss: 2.6178 - val_accuracy: 0.3438\n",
            "Epoch 3/50\n",
            "102/102 [==============================] - 11s 104ms/step - loss: 1.2504 - accuracy: 0.6939 - val_loss: 1.9622 - val_accuracy: 0.5312\n",
            "Epoch 4/50\n",
            "102/102 [==============================] - 11s 104ms/step - loss: 0.8627 - accuracy: 0.7926 - val_loss: 1.5690 - val_accuracy: 0.6875\n",
            "Epoch 5/50\n",
            "102/102 [==============================] - 11s 104ms/step - loss: 0.6035 - accuracy: 0.8474 - val_loss: 2.3076 - val_accuracy: 0.5000\n",
            "Epoch 6/50\n",
            "102/102 [==============================] - 11s 104ms/step - loss: 0.4708 - accuracy: 0.8750 - val_loss: 2.2502 - val_accuracy: 0.6250\n",
            "Epoch 7/50\n",
            "102/102 [==============================] - 11s 103ms/step - loss: 0.4509 - accuracy: 0.8863 - val_loss: 1.8109 - val_accuracy: 0.7188\n",
            "Epoch 8/50\n",
            "102/102 [==============================] - 11s 104ms/step - loss: 0.4170 - accuracy: 0.8974 - val_loss: 1.2996 - val_accuracy: 0.7500\n",
            "Epoch 9/50\n",
            "102/102 [==============================] - 11s 104ms/step - loss: 0.2865 - accuracy: 0.9366 - val_loss: 1.7544 - val_accuracy: 0.7500\n",
            "Epoch 10/50\n",
            "102/102 [==============================] - 11s 104ms/step - loss: 0.1743 - accuracy: 0.9534 - val_loss: 1.8639 - val_accuracy: 0.7812\n",
            "Epoch 11/50\n",
            "102/102 [==============================] - 11s 104ms/step - loss: 0.1602 - accuracy: 0.9583 - val_loss: 2.0549 - val_accuracy: 0.7500\n",
            "Epoch 12/50\n",
            "102/102 [==============================] - 11s 103ms/step - loss: 0.3387 - accuracy: 0.9295 - val_loss: 2.8035 - val_accuracy: 0.6562\n",
            "Epoch 13/50\n",
            "102/102 [==============================] - 11s 103ms/step - loss: 0.4075 - accuracy: 0.9142 - val_loss: 1.3779 - val_accuracy: 0.7500\n",
            "Epoch 14/50\n",
            "102/102 [==============================] - 11s 103ms/step - loss: 0.3677 - accuracy: 0.9243 - val_loss: 3.6696 - val_accuracy: 0.6250\n",
            "Epoch 15/50\n",
            "102/102 [==============================] - 11s 103ms/step - loss: 0.4106 - accuracy: 0.9213 - val_loss: 3.9938 - val_accuracy: 0.5312\n",
            "Epoch 16/50\n",
            "102/102 [==============================] - 11s 104ms/step - loss: 0.2342 - accuracy: 0.9485 - val_loss: 2.9683 - val_accuracy: 0.6875\n",
            "Epoch 17/50\n",
            "102/102 [==============================] - 11s 104ms/step - loss: 0.2272 - accuracy: 0.9574 - val_loss: 1.6389 - val_accuracy: 0.7500\n",
            "Epoch 18/50\n",
            "102/102 [==============================] - 11s 103ms/step - loss: 0.3502 - accuracy: 0.9341 - val_loss: 3.4449 - val_accuracy: 0.7500\n",
            "Epoch 19/50\n",
            "102/102 [==============================] - 11s 103ms/step - loss: 0.4158 - accuracy: 0.9335 - val_loss: 3.9097 - val_accuracy: 0.7500\n",
            "Epoch 20/50\n",
            "102/102 [==============================] - 11s 103ms/step - loss: 0.4200 - accuracy: 0.9354 - val_loss: 4.4826 - val_accuracy: 0.6875\n",
            "Epoch 21/50\n",
            "102/102 [==============================] - 11s 103ms/step - loss: 0.2900 - accuracy: 0.9565 - val_loss: 5.4505 - val_accuracy: 0.6875\n",
            "Epoch 22/50\n",
            "102/102 [==============================] - 11s 103ms/step - loss: 0.2182 - accuracy: 0.9574 - val_loss: 0.8451 - val_accuracy: 0.8438\n",
            "Epoch 23/50\n",
            "102/102 [==============================] - 11s 104ms/step - loss: 0.2221 - accuracy: 0.9614 - val_loss: 5.8484 - val_accuracy: 0.6562\n",
            "Epoch 24/50\n",
            "102/102 [==============================] - 11s 104ms/step - loss: 0.3088 - accuracy: 0.9540 - val_loss: 3.1125 - val_accuracy: 0.7812\n",
            "Epoch 25/50\n",
            "102/102 [==============================] - 11s 104ms/step - loss: 0.2714 - accuracy: 0.9589 - val_loss: 4.5326 - val_accuracy: 0.7188\n",
            "Epoch 26/50\n",
            "102/102 [==============================] - 11s 103ms/step - loss: 0.2427 - accuracy: 0.9626 - val_loss: 6.5800 - val_accuracy: 0.6562\n",
            "Epoch 27/50\n",
            "102/102 [==============================] - 11s 104ms/step - loss: 0.1184 - accuracy: 0.9810 - val_loss: 8.2717 - val_accuracy: 0.4688\n",
            "Epoch 28/50\n",
            "102/102 [==============================] - 11s 104ms/step - loss: 0.3008 - accuracy: 0.9593 - val_loss: 10.0039 - val_accuracy: 0.5625\n",
            "Epoch 29/50\n",
            "102/102 [==============================] - 11s 103ms/step - loss: 0.3779 - accuracy: 0.9473 - val_loss: 3.2526 - val_accuracy: 0.7812\n",
            "Epoch 30/50\n",
            "102/102 [==============================] - 11s 103ms/step - loss: 0.4772 - accuracy: 0.9452 - val_loss: 6.3409 - val_accuracy: 0.6875\n",
            "Epoch 31/50\n",
            "102/102 [==============================] - 11s 103ms/step - loss: 0.3636 - accuracy: 0.9547 - val_loss: 5.1011 - val_accuracy: 0.6250\n",
            "Epoch 32/50\n",
            "102/102 [==============================] - 11s 104ms/step - loss: 0.3416 - accuracy: 0.9568 - val_loss: 5.7944 - val_accuracy: 0.5625\n",
            "Epoch 33/50\n",
            "102/102 [==============================] - 11s 104ms/step - loss: 0.2391 - accuracy: 0.9694 - val_loss: 4.2850 - val_accuracy: 0.6875\n",
            "Epoch 34/50\n",
            "102/102 [==============================] - 11s 104ms/step - loss: 0.2997 - accuracy: 0.9626 - val_loss: 9.5119 - val_accuracy: 0.5625\n",
            "Epoch 35/50\n",
            "102/102 [==============================] - 11s 103ms/step - loss: 0.1664 - accuracy: 0.9761 - val_loss: 5.5232 - val_accuracy: 0.5938\n",
            "Epoch 36/50\n",
            "102/102 [==============================] - 11s 103ms/step - loss: 0.2644 - accuracy: 0.9712 - val_loss: 9.7071 - val_accuracy: 0.6250\n",
            "Epoch 37/50\n",
            "102/102 [==============================] - 11s 103ms/step - loss: 0.2813 - accuracy: 0.9657 - val_loss: 4.5053 - val_accuracy: 0.7188\n",
            "Epoch 38/50\n",
            "102/102 [==============================] - 11s 103ms/step - loss: 0.2240 - accuracy: 0.9697 - val_loss: 3.4786 - val_accuracy: 0.7500\n",
            "Epoch 39/50\n",
            "102/102 [==============================] - 11s 104ms/step - loss: 0.2109 - accuracy: 0.9724 - val_loss: 12.2080 - val_accuracy: 0.4688\n",
            "Epoch 40/50\n",
            "102/102 [==============================] - 11s 104ms/step - loss: 0.1890 - accuracy: 0.9773 - val_loss: 8.5173 - val_accuracy: 0.7188\n",
            "Epoch 41/50\n",
            "102/102 [==============================] - 11s 104ms/step - loss: 0.2497 - accuracy: 0.9697 - val_loss: 8.2088 - val_accuracy: 0.6562\n",
            "Epoch 42/50\n",
            "102/102 [==============================] - 11s 104ms/step - loss: 0.2081 - accuracy: 0.9743 - val_loss: 6.3511 - val_accuracy: 0.7812\n",
            "Epoch 43/50\n",
            "102/102 [==============================] - 11s 104ms/step - loss: 0.2792 - accuracy: 0.9703 - val_loss: 2.3928 - val_accuracy: 0.8438\n",
            "Epoch 44/50\n",
            "102/102 [==============================] - 11s 103ms/step - loss: 0.3114 - accuracy: 0.9694 - val_loss: 13.0782 - val_accuracy: 0.5938\n",
            "Epoch 45/50\n",
            "102/102 [==============================] - 11s 104ms/step - loss: 0.4064 - accuracy: 0.9599 - val_loss: 9.5452 - val_accuracy: 0.5938\n",
            "Epoch 46/50\n",
            "102/102 [==============================] - 11s 104ms/step - loss: 0.3784 - accuracy: 0.9684 - val_loss: 10.0522 - val_accuracy: 0.6875\n",
            "Epoch 47/50\n",
            "102/102 [==============================] - 11s 104ms/step - loss: 0.3892 - accuracy: 0.9651 - val_loss: 4.2074 - val_accuracy: 0.8125\n",
            "Epoch 48/50\n",
            "102/102 [==============================] - 11s 103ms/step - loss: 0.2588 - accuracy: 0.9737 - val_loss: 11.5289 - val_accuracy: 0.5625\n",
            "Epoch 49/50\n",
            "102/102 [==============================] - 10s 103ms/step - loss: 0.1963 - accuracy: 0.9816 - val_loss: 0.0017 - val_accuracy: 1.0000\n",
            "Epoch 50/50\n",
            "102/102 [==============================] - 11s 104ms/step - loss: 0.2806 - accuracy: 0.9712 - val_loss: 12.7889 - val_accuracy: 0.7188\n"
          ],
          "name": "stdout"
        }
      ]
    },
    {
      "cell_type": "code",
      "metadata": {
        "id": "ypqqE_r85DuF",
        "colab_type": "code",
        "colab": {}
      },
      "source": [
        "# !cp -r '/content/drive/My Drive/SubsetLfwCropped_vartika/train' 'train' \n",
        "# !cp -r '/content/drive/My Drive/SubsetLfwCropped_vartika/test'  'test'"
      ],
      "execution_count": 0,
      "outputs": []
    },
    {
      "cell_type": "code",
      "metadata": {
        "id": "ZoZUjUGFRaTl",
        "colab_type": "code",
        "outputId": "133ed8d8-bfd7-4a7d-a69f-d423589a511a",
        "colab": {
          "base_uri": "https://localhost:8080/",
          "height": 34
        }
      },
      "source": [
        "best_val_acc = max(hisory.history['val_accuracy'])\n",
        "print(best_val_acc)"
      ],
      "execution_count": 0,
      "outputs": [
        {
          "output_type": "stream",
          "text": [
            "1.0\n"
          ],
          "name": "stdout"
        }
      ]
    },
    {
      "cell_type": "code",
      "metadata": {
        "id": "xdTTUww9NXjz",
        "colab_type": "code",
        "outputId": "414d3b71-de33-4ffc-da32-8cb9d73824fe",
        "colab": {
          "base_uri": "https://localhost:8080/",
          "height": 34
        }
      },
      "source": [
        "scores = custom_vgg_model.evaluate_generator(validation_generator)\n",
        "scores"
      ],
      "execution_count": 0,
      "outputs": [
        {
          "output_type": "execute_result",
          "data": {
            "text/plain": [
              "[4.505699634552002, 0.6881091594696045]"
            ]
          },
          "metadata": {
            "tags": []
          },
          "execution_count": 31
        }
      ]
    },
    {
      "cell_type": "code",
      "metadata": {
        "id": "JwU8fQn42Il3",
        "colab_type": "code",
        "colab": {}
      },
      "source": [
        "!pip install mtcnn\n",
        "import mtcnn\n",
        "import numpy as np # linear algebra\n",
        "import pandas as pd # data processing, CSV file I/O (e.g. pd.read_csv)\n",
        "import cv2 # opencv\n",
        "from mtcnn.mtcnn import MTCNN\n",
        "from matplotlib import pyplot as plt\n",
        "from keras.models import load_model\n",
        "from PIL import Image\n",
        "import os\n",
        "\n",
        "\n",
        "def extract_face(filename='', required_size=(160, 160)):\n",
        "    # load image from file\n",
        "    image = Image.open(filename)\n",
        "    # convert to RGB, if needed\n",
        "    image = image.convert('RGB')\n",
        "    # convert to array\n",
        "    pixels = np.asarray(image)\n",
        "    # create the detector, using default weights\n",
        "    detector = MTCNN()\n",
        "    # detect faces in the image\n",
        "    results = detector.detect_faces(pixels)\n",
        "    # extract the bounding box from the first face\n",
        "    x1, y1, width, height = results[0]['box']\n",
        "    # deal with negative pixel index\n",
        "    x1, y1 = abs(x1), abs(y1)\n",
        "    x2, y2 = x1 + width, y1 + height\n",
        "    # extract the face\n",
        "    face = pixels[y1:y2, x1:x2]\n",
        "    # resize pixels to the model size\n",
        "    image = Image.fromarray(face)\n",
        "    image = image.resize(required_size)\n",
        "    # print(image)\n",
        "    face_array = np.asarray(image)\n",
        "    plt.imshow(face_array)\n",
        "    plt.show()\n",
        "    return face_array\n",
        "    "
      ],
      "execution_count": 0,
      "outputs": []
    },
    {
      "cell_type": "code",
      "metadata": {
        "id": "0-FZm5LI2VAi",
        "colab_type": "code",
        "colab": {}
      },
      "source": [
        "from IPython.display import display, Javascript\n",
        "from google.colab.output import eval_js\n",
        "from base64 import b64decode\n",
        "\n",
        "def take_photo(filename, quality=0.8):\n",
        "  js = Javascript('''\n",
        "    async function takePhoto(quality) {\n",
        "      const div = document.createElement('div');\n",
        "      const capture = document.createElement('button');\n",
        "      capture.textContent = 'Capture';\n",
        "      div.appendChild(capture);\n",
        "\n",
        "      const video = document.createElement('video');\n",
        "      video.style.display = 'block';\n",
        "      const stream = await navigator.mediaDevices.getUserMedia({video: true});\n",
        "\n",
        "      document.body.appendChild(div);\n",
        "      div.appendChild(video);\n",
        "      video.srcObject = stream;\n",
        "      await video.play();\n",
        "\n",
        "      // Resize the output to fit the video element.\n",
        "      google.colab.output.setIframeHeight(document.documentElement.scrollHeight, true);\n",
        "\n",
        "      // Wait for Capture to be clicked.\n",
        "      await new Promise((resolve) => capture.onclick = resolve);\n",
        "\n",
        "      const canvas = document.createElement('canvas');\n",
        "      canvas.width = video.videoWidth;\n",
        "      canvas.height = video.videoHeight;\n",
        "      canvas.getContext('2d').drawImage(video, 0, 0);\n",
        "      stream.getVideoTracks()[0].stop();\n",
        "      div.remove();\n",
        "      return canvas.toDataURL('image/jpeg', quality);\n",
        "    }\n",
        "    ''')\n",
        "  display(js)\n",
        "  data = eval_js('takePhoto({})'.format(quality))\n",
        "  binary = b64decode(data.split(',')[1])\n",
        "  with open(filename, 'wb') as f:\n",
        "    f.write(binary)\n",
        "  return filename"
      ],
      "execution_count": 0,
      "outputs": []
    },
    {
      "cell_type": "code",
      "metadata": {
        "id": "EkPHr2JW2a2M",
        "colab_type": "code",
        "outputId": "6a72cad6-f91a-4ad6-de72-7c04eda32a39",
        "colab": {
          "base_uri": "https://localhost:8080/",
          "height": 34
        }
      },
      "source": [
        "try:\n",
        "    file_name ='test.jpg'\n",
        "    filename = take_photo(file_name)\n",
        "    print('Saved to {}'.format(filename))\n",
        "    \n",
        "# Show the image which was just taken.\n",
        "    # display(Image(filename))\n",
        "except Exception as err:\n",
        "    # Errors will be thrown if the user does not have a webcam or if they do not\n",
        "    # grant the page permission to access it.\n",
        "    print(str(err))"
      ],
      "execution_count": 0,
      "outputs": [
        {
          "output_type": "display_data",
          "data": {
            "application/javascript": [
              "\n",
              "    async function takePhoto(quality) {\n",
              "      const div = document.createElement('div');\n",
              "      const capture = document.createElement('button');\n",
              "      capture.textContent = 'Capture';\n",
              "      div.appendChild(capture);\n",
              "\n",
              "      const video = document.createElement('video');\n",
              "      video.style.display = 'block';\n",
              "      const stream = await navigator.mediaDevices.getUserMedia({video: true});\n",
              "\n",
              "      document.body.appendChild(div);\n",
              "      div.appendChild(video);\n",
              "      video.srcObject = stream;\n",
              "      await video.play();\n",
              "\n",
              "      // Resize the output to fit the video element.\n",
              "      google.colab.output.setIframeHeight(document.documentElement.scrollHeight, true);\n",
              "\n",
              "      // Wait for Capture to be clicked.\n",
              "      await new Promise((resolve) => capture.onclick = resolve);\n",
              "\n",
              "      const canvas = document.createElement('canvas');\n",
              "      canvas.width = video.videoWidth;\n",
              "      canvas.height = video.videoHeight;\n",
              "      canvas.getContext('2d').drawImage(video, 0, 0);\n",
              "      stream.getVideoTracks()[0].stop();\n",
              "      div.remove();\n",
              "      return canvas.toDataURL('image/jpeg', quality);\n",
              "    }\n",
              "    "
            ],
            "text/plain": [
              "<IPython.core.display.Javascript object>"
            ]
          },
          "metadata": {
            "tags": []
          }
        },
        {
          "output_type": "stream",
          "text": [
            "Saved to test.jpg\n"
          ],
          "name": "stdout"
        }
      ]
    },
    {
      "cell_type": "code",
      "metadata": {
        "id": "VG45sLyh2vF-",
        "colab_type": "code",
        "outputId": "ec0ecd7f-024c-479a-9b24-d2592615c0a9",
        "colab": {
          "base_uri": "https://localhost:8080/",
          "height": 269
        }
      },
      "source": [
        "pixels = extract_face(os.path.join('test.jpg'))\n",
        "plt.imsave('test_.jpg',pixels)"
      ],
      "execution_count": 0,
      "outputs": [
        {
          "output_type": "display_data",
          "data": {
            "image/png": "[encoded data removed]",
            "text/plain": [
              "<Figure size 432x288 with 1 Axes>"
            ]
          },
          "metadata": {
            "tags": [],
            "needs_background": "light"
          }
        }
      ]
    },
    {
      "cell_type": "code",
      "metadata": {
        "id": "jFexM1Po-LTb",
        "colab_type": "code",
        "outputId": "35ff2deb-f027-4125-ea85-8c8f2b7a1fa4",
        "colab": {
          "base_uri": "https://localhost:8080/",
          "height": 52
        }
      },
      "source": [
        "from keras.preprocessing import image\n",
        "import numpy as np\n",
        "test_path = input()\n",
        "img = image.load_img(test_path, target_size=(128, 128))\n",
        "x = image.img_to_array(img)\n",
        "x = np.expand_dims(x, axis=0)\n",
        "x = utils.preprocess_input(x, version=1) # or version=2\n",
        "preds = custom_vgg_model.predict(x)\n",
        "print(preds[0])"
      ],
      "execution_count": 0,
      "outputs": [
        {
          "output_type": "stream",
          "text": [
            "/content/test_1-with-mask.jpg\n",
            "[1.0000000e+00 1.0362444e-29 0.0000000e+00]\n"
          ],
          "name": "stdout"
        }
      ]
    },
    {
      "cell_type": "code",
      "metadata": {
        "id": "_PJPX7pl5aIS",
        "colab_type": "code",
        "colab": {}
      },
      "source": [
        "/content/test_.jpg"
      ],
      "execution_count": 0,
      "outputs": []
    }
  ]
}