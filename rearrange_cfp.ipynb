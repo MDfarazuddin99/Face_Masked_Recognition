{
 "cells": [
  {
   "cell_type": "code",
   "execution_count": null,
   "metadata": {},
   "outputs": [],
   "source": [
    "pwd"
   ]
  },
  {
   "cell_type": "code",
   "execution_count": null,
   "metadata": {},
   "outputs": [],
   "source": [
    "import os\n",
    "import glob\n",
    "import shutil \n",
    "from distutils.dir_util import copy_tree"
   ]
  },
  {
   "cell_type": "code",
   "execution_count": null,
   "metadata": {},
   "outputs": [],
   "source": [
    "dir= r\"C:\\Users\\Admin\\Desktop\\Ciphense papers and new ML concepts\\cfp-dataset\\cfp-dataset\\Data\\Images\"\n",
    "dst= r\"C:\\Users\\Admin\\Desktop\\Ciphense papers and new ML concepts\\dataset\""
   ]
  },
  {
   "cell_type": "code",
   "execution_count": null,
   "metadata": {},
   "outputs": [],
   "source": [
    "names_file= r\"C:\\Users\\Admin\\Desktop\\Ciphense papers and new ML concepts\\cfp-dataset\\cfp-dataset\\Data\\list_name.txt\""
   ]
  },
  {
   "cell_type": "code",
   "execution_count": null,
   "metadata": {},
   "outputs": [],
   "source": [
    "List = open(names_file).readlines()"
   ]
  },
  {
   "cell_type": "code",
   "execution_count": null,
   "metadata": {},
   "outputs": [],
   "source": [
    "print(List)"
   ]
  },
  {
   "cell_type": "code",
   "execution_count": null,
   "metadata": {},
   "outputs": [],
   "source": [
    "x= List[1]\n",
    "celeb= x.replace(\" \", \"_\")\n",
    "celeb= celeb[:-1]\n",
    "destfolder_path= os.path.join(dst, celeb)\n",
    "print(destfolder_path)\n",
    "if not os.path.exists(destfolder_path):\n",
    "    os.makedirs(destfolder_path)\n"
   ]
  },
  {
   "cell_type": "code",
   "execution_count": null,
   "metadata": {},
   "outputs": [],
   "source": [
    "i=0\n",
    "for filename in os.listdir(dir):\n",
    "    srcfolder_path= os.path.join(dir, filename)\n",
    "    srcfolder_path= os.path.join(srcfolder_path, \"frontal\")\n",
    "    print(srcfolder_path)\n",
    "    celeb= List[i]\n",
    "    celeb= celeb.replace(\" \", \"_\")\n",
    "    celeb= celeb[:-1]\n",
    "    destfolder_path= os.path.join(dst, celeb)\n",
    "    print(destfolder_path)\n",
    "    if not os.path.exists(destfolder_path):\n",
    "        os.mkdir(destfolder_path)\n",
    "        for name in os.listdir(srcfolder_path):\n",
    "            name2= celeb+ str(\"_00\")+ str(name)\n",
    "            path= os.path.join(srcfolder_path, name)\n",
    "            shutil.copy(path, destfolder_path, follow_symlinks=False)\n",
    "    i+=1"
   ]
  },
  {
   "cell_type": "code",
   "execution_count": null,
   "metadata": {},
   "outputs": [],
   "source": [
    "for filename in os.listdir(dst):\n",
    "    srcfolder_path= os.path.join(dst, filename)\n",
    "    print(srcfolder_path)\n",
    "    for number in os.listdir(srcfolder_path):\n",
    "        name= os.path.join(srcfolder_path, number)\n",
    "        print(name)\n",
    "        newname= filename+ str(\"_00\")+ str(number)\n",
    "        print(newname)\n",
    "        path= os.path.join(srcfolder_path, newname)\n",
    "        print(path)\n",
    "        os.rename(name,path)\n"
   ]
  },
  {
   "cell_type": "code",
   "execution_count": null,
   "metadata": {},
   "outputs": [],
   "source": []
  }
 ],
 "metadata": {
  "kernelspec": {
   "display_name": "Python 3",
   "language": "python",
   "name": "python3"
  },
  "language_info": {
   "codemirror_mode": {
    "name": "ipython",
    "version": 3
   },
   "file_extension": ".py",
   "mimetype": "text/x-python",
   "name": "python",
   "nbconvert_exporter": "python",
   "pygments_lexer": "ipython3",
   "version": "3.7.6"
  }
 },
 "nbformat": 4,
 "nbformat_minor": 4
}
