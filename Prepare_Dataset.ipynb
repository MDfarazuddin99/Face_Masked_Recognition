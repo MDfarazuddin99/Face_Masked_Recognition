{
  "nbformat": 4,
  "nbformat_minor": 0,
  "metadata": {
    "colab": {
      "name": "Prepare_Dataset.ipynb",
      "provenance": [],
      "collapsed_sections": [],
      "toc_visible": true,
      "mount_file_id": "1eVw_5Pt23WDENKnEA_ckJbQNpnlQNJ_b",
      "authorship_tag": "ABX9TyNxk214vGOOfIm148ioCDxD",
      "include_colab_link": true
    },
    "kernelspec": {
      "name": "python3",
      "display_name": "Python 3"
    },
    "accelerator": "GPU"
  },
  "cells": [
    {
      "cell_type": "markdown",
      "metadata": {
        "id": "view-in-github",
        "colab_type": "text"
      },
      "source": [
        "<a href=\"https://colab.research.google.com/github/MDfarazuddin99/Masked_Face_Recognition/blob/master/Prepare_Dataset.ipynb\" target=\"_parent\"><img src=\"https://colab.research.google.com/assets/colab-badge.svg\" alt=\"Open In Colab\"/></a>"
      ]
    },
    {
      "cell_type": "markdown",
      "metadata": {
        "id": "3S5lLahCpWzP",
        "colab_type": "text"
      },
      "source": [
        "\n",
        "**Instructions for Running the file**\n",
        "1. Add this to your google drive  ([Drive](https://drive.google.com/drive/folders/18_rClZ6QGf5YDI94g25Kqimn8DbJ8MZl?usp=sharing))\n",
        "2. Mount the Drive to this colab notebook.\n",
        "3. Run each cell of the notebook once. \n",
        "NOTE: Use only **Goolge Chrome Browser**\n"
      ]
    },
    {
      "cell_type": "code",
      "metadata": {
        "id": "Ac9T2z9METK_",
        "colab_type": "code",
        "colab": {}
      },
      "source": [
        "from IPython.display import display, Javascript\n",
        "from google.colab.output import eval_js\n",
        "from base64 import b64decode\n",
        "\n",
        "def take_photo(filename, quality=0.8):\n",
        "  js = Javascript('''\n",
        "    async function takePhoto(quality) {\n",
        "      const div = document.createElement('div');\n",
        "      const capture = document.createElement('button');\n",
        "      capture.textContent = 'Capture';\n",
        "      div.appendChild(capture);\n",
        "\n",
        "      const video = document.createElement('video');\n",
        "      video.style.display = 'block';\n",
        "      const stream = await navigator.mediaDevices.getUserMedia({video: true});\n",
        "\n",
        "      document.body.appendChild(div);\n",
        "      div.appendChild(video);\n",
        "      video.srcObject = stream;\n",
        "      await video.play();\n",
        "\n",
        "      // Resize the output to fit the video element.\n",
        "      google.colab.output.setIframeHeight(document.documentElement.scrollHeight, true);\n",
        "\n",
        "      // Wait for Capture to be clicked.\n",
        "      await new Promise((resolve) => capture.onclick = resolve);\n",
        "\n",
        "      const canvas = document.createElement('canvas');\n",
        "      canvas.width = video.videoWidth;\n",
        "      canvas.height = video.videoHeight;\n",
        "      canvas.getContext('2d').drawImage(video, 0, 0);\n",
        "      stream.getVideoTracks()[0].stop();\n",
        "      div.remove();\n",
        "      return canvas.toDataURL('image/jpeg', quality);\n",
        "    }\n",
        "    ''')\n",
        "  display(js)\n",
        "  data = eval_js('takePhoto({})'.format(quality))\n",
        "  binary = b64decode(data.split(',')[1])\n",
        "  with open(filename, 'wb') as f:\n",
        "    f.write(binary)\n",
        "  return filename"
      ],
      "execution_count": 0,
      "outputs": []
    },
    {
      "cell_type": "markdown",
      "metadata": {
        "id": "CR_1AaGWvysU",
        "colab_type": "text"
      },
      "source": [
        "# Mount the drive and and Enter Your name"
      ]
    },
    {
      "cell_type": "code",
      "metadata": {
        "id": "yPqr-Ni4uY3A",
        "colab_type": "code",
        "colab": {
          "base_uri": "https://localhost:8080/",
          "height": 34
        },
        "outputId": "dc287653-5d7f-419f-d92f-c22993c96c8b"
      },
      "source": [
        "import os\n",
        "person_name = input('Enter your Name: ')\n",
        "os.mkdir('/content/drive/My Drive/Face_Mask_Data/Not_Masked/'+person_name)"
      ],
      "execution_count": 3,
      "outputs": [
        {
          "output_type": "stream",
          "text": [
            "Enter your Name: Faraz\n"
          ],
          "name": "stdout"
        }
      ]
    },
    {
      "cell_type": "markdown",
      "metadata": {
        "id": "VWmKuq5G_vIJ",
        "colab_type": "text"
      },
      "source": [
        "## Collecting Normal Images without Face Mask\n",
        "\n",
        "**Instructions for running below cell**\n",
        "1. Press the capture button. \n",
        "1. Please make sure your background is white. (Have a **wall behind** you)\n",
        "2. Have atleast **1 feet** distance between the webcam and your face.\n",
        "3. Remove your **glasses** for preventing any glare due to screens monitor. \n",
        "4. Please try to give clear and diverse images of your face like the ones already in the drive.\n",
        "\n",
        "\n"
      ]
    },
    {
      "cell_type": "code",
      "metadata": {
        "id": "FKtm_794_CAa",
        "colab_type": "code",
        "colab": {
          "base_uri": "https://localhost:8080/",
          "height": 34
        },
        "outputId": "323faa6d-f699-46ba-bb76-0780f8923af0"
      },
      "source": [
        "from IPython.display import Image\n",
        "import os\n",
        "for i in range(15):\n",
        "    try:\n",
        "        file_name = '/content/drive/My Drive/Face_Mask_Data/Not_Masked/'+person_name+'/'+str(i)+'.jpg'\n",
        "        filename = take_photo(file_name)\n",
        "        print('Saved to {}'.format(filename))\n",
        "        \n",
        "    # Show the image which was just taken.\n",
        "        # display(Image(filename))\n",
        "    except Exception as err:\n",
        "        # Errors will be thrown if the user does not have a webcam or if they do not\n",
        "        # grant the page permission to access it.\n",
        "        print(str(err))"
      ],
      "execution_count": 4,
      "outputs": [
        {
          "output_type": "display_data",
          "data": {
            "application/javascript": [
              "\n",
              "    async function takePhoto(quality) {\n",
              "      const div = document.createElement('div');\n",
              "      const capture = document.createElement('button');\n",
              "      capture.textContent = 'Capture';\n",
              "      div.appendChild(capture);\n",
              "\n",
              "      const video = document.createElement('video');\n",
              "      video.style.display = 'block';\n",
              "      const stream = await navigator.mediaDevices.getUserMedia({video: true});\n",
              "\n",
              "      document.body.appendChild(div);\n",
              "      div.appendChild(video);\n",
              "      video.srcObject = stream;\n",
              "      await video.play();\n",
              "\n",
              "      // Resize the output to fit the video element.\n",
              "      google.colab.output.setIframeHeight(document.documentElement.scrollHeight, true);\n",
              "\n",
              "      // Wait for Capture to be clicked.\n",
              "      await new Promise((resolve) => capture.onclick = resolve);\n",
              "\n",
              "      const canvas = document.createElement('canvas');\n",
              "      canvas.width = video.videoWidth;\n",
              "      canvas.height = video.videoHeight;\n",
              "      canvas.getContext('2d').drawImage(video, 0, 0);\n",
              "      stream.getVideoTracks()[0].stop();\n",
              "      div.remove();\n",
              "      return canvas.toDataURL('image/jpeg', quality);\n",
              "    }\n",
              "    "
            ],
            "text/plain": [
              "<IPython.core.display.Javascript object>"
            ]
          },
          "metadata": {
            "tags": []
          }
        },
        {
          "output_type": "stream",
          "text": [
            "Saved to /content/drive/My Drive/Face_Mask_Data/Not_Masked/Faraz/0.jpg\n"
          ],
          "name": "stdout"
        }
      ]
    },
    {
      "cell_type": "markdown",
      "metadata": {
        "id": "rLlpcUG6s9c9",
        "colab_type": "text"
      },
      "source": [
        "# Now please wear a Face Mask\n",
        "## Collecting Normal Images without Face Mask\n",
        "\n",
        "**Instructions for running below cell**\n",
        "1. Press the capture button. \n",
        "1. Please make sure your background is white. (Have a **wall behind** you)\n",
        "2. Have atleast **1 feet** distance between the webcam and your face.\n",
        "3. Remove your **glasses** for preventing any glare due to screens monitor. \n",
        "4. Please try to give clear and diverse images of your face like the ones already in the drive.\n",
        "\n",
        "\n"
      ]
    },
    {
      "cell_type": "code",
      "metadata": {
        "id": "T6ja0iKzsVBg",
        "colab_type": "code",
        "colab": {}
      },
      "source": [
        "for i in range(7):\n",
        "    try:\n",
        "        file_name = '/content/drive/My Drive/Face_Mask_Data/Masked/'+person_name+'/'+str(i)+'.jpg'\n",
        "        filename = take_photo(file_name)\n",
        "        print('Saved to {}'.format(filename))\n",
        "        \n",
        "    # Show the image which was just taken.\n",
        "        # display(Image(filename))\n",
        "    except Exception as err:\n",
        "        # Errors will be thrown if the user does not have a webcam or if they do not\n",
        "        # grant the page permission to access it.\n",
        "        print(str(err))"
      ],
      "execution_count": 0,
      "outputs": []
    },
    {
      "cell_type": "markdown",
      "metadata": {
        "id": "Y8LvbGui6_2N",
        "colab_type": "text"
      },
      "source": [
        "# **Thank you!**"
      ]
    }
  ]
}